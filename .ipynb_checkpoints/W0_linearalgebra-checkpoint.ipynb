{
 "cells": [
  {
   "cell_type": "code",
   "execution_count": 1,
   "id": "5af11c90",
   "metadata": {},
   "outputs": [],
   "source": [
    "import numpy as np"
   ]
  },
  {
   "cell_type": "code",
   "execution_count": 2,
   "id": "7b0b4645",
   "metadata": {},
   "outputs": [],
   "source": [
    "v = np.array([4, 6, 8])"
   ]
  },
  {
   "cell_type": "code",
   "execution_count": 3,
   "id": "fb60b964",
   "metadata": {},
   "outputs": [
    {
     "data": {
      "text/plain": [
       "array([4, 6, 8])"
      ]
     },
     "execution_count": 3,
     "metadata": {},
     "output_type": "execute_result"
    }
   ],
   "source": [
    "v"
   ]
  },
  {
   "cell_type": "code",
   "execution_count": 9,
   "id": "163e5cf2",
   "metadata": {},
   "outputs": [],
   "source": [
    "x= np.vectorize([4,5,7])"
   ]
  },
  {
   "cell_type": "code",
   "execution_count": 10,
   "id": "0345d0e1",
   "metadata": {},
   "outputs": [
    {
     "data": {
      "text/plain": [
       "<numpy.vectorize at 0x7fa5c4ca8670>"
      ]
     },
     "execution_count": 10,
     "metadata": {},
     "output_type": "execute_result"
    }
   ],
   "source": [
    "x"
   ]
  },
  {
   "cell_type": "code",
   "execution_count": 13,
   "id": "2d760fc4",
   "metadata": {},
   "outputs": [],
   "source": [
    "v= np.array([[4,6,8]])"
   ]
  },
  {
   "cell_type": "code",
   "execution_count": 14,
   "id": "4a968285",
   "metadata": {},
   "outputs": [
    {
     "data": {
      "text/plain": [
       "array([[4, 6, 8]])"
      ]
     },
     "execution_count": 14,
     "metadata": {},
     "output_type": "execute_result"
    }
   ],
   "source": [
    "v"
   ]
  },
  {
   "cell_type": "code",
   "execution_count": 15,
   "id": "8a68e1c8",
   "metadata": {},
   "outputs": [],
   "source": [
    "v = np.array([4, 1])"
   ]
  },
  {
   "cell_type": "code",
   "execution_count": 16,
   "id": "4cc8ed3c",
   "metadata": {},
   "outputs": [
    {
     "data": {
      "text/plain": [
       "array([4, 1])"
      ]
     },
     "execution_count": 16,
     "metadata": {},
     "output_type": "execute_result"
    }
   ],
   "source": [
    "v"
   ]
  },
  {
   "cell_type": "code",
   "execution_count": null,
   "id": "20c99aaa",
   "metadata": {},
   "outputs": [],
   "source": []
  },
  {
   "cell_type": "code",
   "execution_count": 23,
   "id": "64d4ace2",
   "metadata": {},
   "outputs": [],
   "source": [
    "def normalize_vector(input_vector):\n",
    "  \"\"\" Normalizes a vector to length 1\n",
    "\n",
    "  Inputs:\n",
    "    input_vector (ndarray): array of shape (n_dim, ) where n_dim is the\n",
    "        dimensionality of the vector\n",
    "\n",
    "  Outputs:\n",
    "    (ndarray): normalized vector of length 1\n",
    "  \"\"\"\n",
    "\n",
    "  #################################################################################\n",
    "  ## TODO for students: complete normalize_vector function ##\n",
    "  # Fill out function and remove\n",
    "  #################################################################################\n",
    "\n",
    "  # Compute vector length (use np.linalg.norm)\n",
    "  vector_length = np.linalg.norm(input_vector)\n",
    "\n",
    "  # Create normalized vector\n",
    "  normalized_vector = input_vector / vector_length\n",
    "\n",
    "  return normalized_vector\n"
   ]
  },
  {
   "cell_type": "code",
   "execution_count": 24,
   "id": "d5a92686",
   "metadata": {},
   "outputs": [
    {
     "data": {
      "text/plain": [
       "array([0.9701425 , 0.24253563])"
      ]
     },
     "execution_count": 24,
     "metadata": {},
     "output_type": "execute_result"
    }
   ],
   "source": [
    "normalize_vector(v)"
   ]
  },
  {
   "cell_type": "code",
   "execution_count": null,
   "id": "0952a3fe",
   "metadata": {},
   "outputs": [],
   "source": []
  },
  {
   "cell_type": "code",
   "execution_count": null,
   "id": "7f3fae7c",
   "metadata": {},
   "outputs": [],
   "source": [
    "# Create vector v from above (use np.array)\n",
    "v = ...\n",
    "\n",
    "# Call the function\n",
    "v_unit = normalize_vector(v)\n",
    "\n",
    "# Visualize the vectors\n",
    "visualize_vectors(v, v_unit)\n"
   ]
  },
  {
   "cell_type": "code",
   "execution_count": 19,
   "id": "11966870",
   "metadata": {},
   "outputs": [
    {
     "data": {
      "text/plain": [
       "4.123105625617661"
      ]
     },
     "execution_count": 19,
     "metadata": {},
     "output_type": "execute_result"
    }
   ],
   "source": [
    "vector_length = np.linalg.norm(v)\n",
    "vector_length"
   ]
  },
  {
   "cell_type": "code",
   "execution_count": 25,
   "id": "3a604acd",
   "metadata": {},
   "outputs": [],
   "source": [
    "## section 2"
   ]
  },
  {
   "cell_type": "code",
   "execution_count": null,
   "id": "3698d8be",
   "metadata": {},
   "outputs": [],
   "source": [
    "%matplotlib inline"
   ]
  },
  {
   "cell_type": "code",
   "execution_count": null,
   "id": "0bd3446c",
   "metadata": {},
   "outputs": [],
   "source": [
    "import numpy as np\n",
    "import matplotlib.pyplot as plt\n",
    "\n",
    "V = np.array([[4,2,0], [1,0,3], [5,2,3], [3,3,2]])\n",
    "origin = np.array([[0, 0, 0],[0, 0, 0]]) # origin point\n",
    "\n",
    "plt.quiver(*origin, V[:,0], V[:,1], V[:,2], V[:,3], color=['r','b','g'], scale=21)\n",
    "plt.show()"
   ]
  },
  {
   "cell_type": "code",
   "execution_count": 32,
   "id": "52e86754",
   "metadata": {},
   "outputs": [],
   "source": [
    "V1 = np.array([4,2,0])\n",
    "V2 = np.array([1,0,3])\n",
    "V3 = np.array([5,2,3])\n",
    "V4 = np.array([3,3,2])"
   ]
  },
  {
   "cell_type": "code",
   "execution_count": 42,
   "id": "c0213857",
   "metadata": {},
   "outputs": [
    {
     "ename": "ValueError",
     "evalue": "x and y must have same first dimension, but have shapes (2, 3) and (3,)",
     "output_type": "error",
     "traceback": [
      "\u001b[0;31m---------------------------------------------------------------------------\u001b[0m",
      "\u001b[0;31mValueError\u001b[0m                                Traceback (most recent call last)",
      "\u001b[0;32m<ipython-input-42-52f297251227>\u001b[0m in \u001b[0;36m<module>\u001b[0;34m\u001b[0m\n\u001b[0;32m----> 1\u001b[0;31m \u001b[0mplt\u001b[0m\u001b[0;34m.\u001b[0m\u001b[0mplot\u001b[0m\u001b[0;34m(\u001b[0m\u001b[0morigin\u001b[0m\u001b[0;34m,\u001b[0m\u001b[0mV1\u001b[0m\u001b[0;34m)\u001b[0m\u001b[0;34m\u001b[0m\u001b[0;34m\u001b[0m\u001b[0m\n\u001b[0m",
      "\u001b[0;32m~/opt/anaconda3/lib/python3.8/site-packages/matplotlib/pyplot.py\u001b[0m in \u001b[0;36mplot\u001b[0;34m(scalex, scaley, data, *args, **kwargs)\u001b[0m\n\u001b[1;32m   2838\u001b[0m \u001b[0;34m@\u001b[0m\u001b[0m_copy_docstring_and_deprecators\u001b[0m\u001b[0;34m(\u001b[0m\u001b[0mAxes\u001b[0m\u001b[0;34m.\u001b[0m\u001b[0mplot\u001b[0m\u001b[0;34m)\u001b[0m\u001b[0;34m\u001b[0m\u001b[0;34m\u001b[0m\u001b[0m\n\u001b[1;32m   2839\u001b[0m \u001b[0;32mdef\u001b[0m \u001b[0mplot\u001b[0m\u001b[0;34m(\u001b[0m\u001b[0;34m*\u001b[0m\u001b[0margs\u001b[0m\u001b[0;34m,\u001b[0m \u001b[0mscalex\u001b[0m\u001b[0;34m=\u001b[0m\u001b[0;32mTrue\u001b[0m\u001b[0;34m,\u001b[0m \u001b[0mscaley\u001b[0m\u001b[0;34m=\u001b[0m\u001b[0;32mTrue\u001b[0m\u001b[0;34m,\u001b[0m \u001b[0mdata\u001b[0m\u001b[0;34m=\u001b[0m\u001b[0;32mNone\u001b[0m\u001b[0;34m,\u001b[0m \u001b[0;34m**\u001b[0m\u001b[0mkwargs\u001b[0m\u001b[0;34m)\u001b[0m\u001b[0;34m:\u001b[0m\u001b[0;34m\u001b[0m\u001b[0;34m\u001b[0m\u001b[0m\n\u001b[0;32m-> 2840\u001b[0;31m     return gca().plot(\n\u001b[0m\u001b[1;32m   2841\u001b[0m         \u001b[0;34m*\u001b[0m\u001b[0margs\u001b[0m\u001b[0;34m,\u001b[0m \u001b[0mscalex\u001b[0m\u001b[0;34m=\u001b[0m\u001b[0mscalex\u001b[0m\u001b[0;34m,\u001b[0m \u001b[0mscaley\u001b[0m\u001b[0;34m=\u001b[0m\u001b[0mscaley\u001b[0m\u001b[0;34m,\u001b[0m\u001b[0;34m\u001b[0m\u001b[0;34m\u001b[0m\u001b[0m\n\u001b[1;32m   2842\u001b[0m         **({\"data\": data} if data is not None else {}), **kwargs)\n",
      "\u001b[0;32m~/opt/anaconda3/lib/python3.8/site-packages/matplotlib/axes/_axes.py\u001b[0m in \u001b[0;36mplot\u001b[0;34m(self, scalex, scaley, data, *args, **kwargs)\u001b[0m\n\u001b[1;32m   1741\u001b[0m         \"\"\"\n\u001b[1;32m   1742\u001b[0m         \u001b[0mkwargs\u001b[0m \u001b[0;34m=\u001b[0m \u001b[0mcbook\u001b[0m\u001b[0;34m.\u001b[0m\u001b[0mnormalize_kwargs\u001b[0m\u001b[0;34m(\u001b[0m\u001b[0mkwargs\u001b[0m\u001b[0;34m,\u001b[0m \u001b[0mmlines\u001b[0m\u001b[0;34m.\u001b[0m\u001b[0mLine2D\u001b[0m\u001b[0;34m)\u001b[0m\u001b[0;34m\u001b[0m\u001b[0;34m\u001b[0m\u001b[0m\n\u001b[0;32m-> 1743\u001b[0;31m         \u001b[0mlines\u001b[0m \u001b[0;34m=\u001b[0m \u001b[0;34m[\u001b[0m\u001b[0;34m*\u001b[0m\u001b[0mself\u001b[0m\u001b[0;34m.\u001b[0m\u001b[0m_get_lines\u001b[0m\u001b[0;34m(\u001b[0m\u001b[0;34m*\u001b[0m\u001b[0margs\u001b[0m\u001b[0;34m,\u001b[0m \u001b[0mdata\u001b[0m\u001b[0;34m=\u001b[0m\u001b[0mdata\u001b[0m\u001b[0;34m,\u001b[0m \u001b[0;34m**\u001b[0m\u001b[0mkwargs\u001b[0m\u001b[0;34m)\u001b[0m\u001b[0;34m]\u001b[0m\u001b[0;34m\u001b[0m\u001b[0;34m\u001b[0m\u001b[0m\n\u001b[0m\u001b[1;32m   1744\u001b[0m         \u001b[0;32mfor\u001b[0m \u001b[0mline\u001b[0m \u001b[0;32min\u001b[0m \u001b[0mlines\u001b[0m\u001b[0;34m:\u001b[0m\u001b[0;34m\u001b[0m\u001b[0;34m\u001b[0m\u001b[0m\n\u001b[1;32m   1745\u001b[0m             \u001b[0mself\u001b[0m\u001b[0;34m.\u001b[0m\u001b[0madd_line\u001b[0m\u001b[0;34m(\u001b[0m\u001b[0mline\u001b[0m\u001b[0;34m)\u001b[0m\u001b[0;34m\u001b[0m\u001b[0;34m\u001b[0m\u001b[0m\n",
      "\u001b[0;32m~/opt/anaconda3/lib/python3.8/site-packages/matplotlib/axes/_base.py\u001b[0m in \u001b[0;36m__call__\u001b[0;34m(self, data, *args, **kwargs)\u001b[0m\n\u001b[1;32m    271\u001b[0m                 \u001b[0mthis\u001b[0m \u001b[0;34m+=\u001b[0m \u001b[0margs\u001b[0m\u001b[0;34m[\u001b[0m\u001b[0;36m0\u001b[0m\u001b[0;34m]\u001b[0m\u001b[0;34m,\u001b[0m\u001b[0;34m\u001b[0m\u001b[0;34m\u001b[0m\u001b[0m\n\u001b[1;32m    272\u001b[0m                 \u001b[0margs\u001b[0m \u001b[0;34m=\u001b[0m \u001b[0margs\u001b[0m\u001b[0;34m[\u001b[0m\u001b[0;36m1\u001b[0m\u001b[0;34m:\u001b[0m\u001b[0;34m]\u001b[0m\u001b[0;34m\u001b[0m\u001b[0;34m\u001b[0m\u001b[0m\n\u001b[0;32m--> 273\u001b[0;31m             \u001b[0;32myield\u001b[0m \u001b[0;32mfrom\u001b[0m \u001b[0mself\u001b[0m\u001b[0;34m.\u001b[0m\u001b[0m_plot_args\u001b[0m\u001b[0;34m(\u001b[0m\u001b[0mthis\u001b[0m\u001b[0;34m,\u001b[0m \u001b[0mkwargs\u001b[0m\u001b[0;34m)\u001b[0m\u001b[0;34m\u001b[0m\u001b[0;34m\u001b[0m\u001b[0m\n\u001b[0m\u001b[1;32m    274\u001b[0m \u001b[0;34m\u001b[0m\u001b[0m\n\u001b[1;32m    275\u001b[0m     \u001b[0;32mdef\u001b[0m \u001b[0mget_next_color\u001b[0m\u001b[0;34m(\u001b[0m\u001b[0mself\u001b[0m\u001b[0;34m)\u001b[0m\u001b[0;34m:\u001b[0m\u001b[0;34m\u001b[0m\u001b[0;34m\u001b[0m\u001b[0m\n",
      "\u001b[0;32m~/opt/anaconda3/lib/python3.8/site-packages/matplotlib/axes/_base.py\u001b[0m in \u001b[0;36m_plot_args\u001b[0;34m(self, tup, kwargs)\u001b[0m\n\u001b[1;32m    397\u001b[0m \u001b[0;34m\u001b[0m\u001b[0m\n\u001b[1;32m    398\u001b[0m         \u001b[0;32mif\u001b[0m \u001b[0mx\u001b[0m\u001b[0;34m.\u001b[0m\u001b[0mshape\u001b[0m\u001b[0;34m[\u001b[0m\u001b[0;36m0\u001b[0m\u001b[0;34m]\u001b[0m \u001b[0;34m!=\u001b[0m \u001b[0my\u001b[0m\u001b[0;34m.\u001b[0m\u001b[0mshape\u001b[0m\u001b[0;34m[\u001b[0m\u001b[0;36m0\u001b[0m\u001b[0;34m]\u001b[0m\u001b[0;34m:\u001b[0m\u001b[0;34m\u001b[0m\u001b[0;34m\u001b[0m\u001b[0m\n\u001b[0;32m--> 399\u001b[0;31m             raise ValueError(f\"x and y must have same first dimension, but \"\n\u001b[0m\u001b[1;32m    400\u001b[0m                              f\"have shapes {x.shape} and {y.shape}\")\n\u001b[1;32m    401\u001b[0m         \u001b[0;32mif\u001b[0m \u001b[0mx\u001b[0m\u001b[0;34m.\u001b[0m\u001b[0mndim\u001b[0m \u001b[0;34m>\u001b[0m \u001b[0;36m2\u001b[0m \u001b[0;32mor\u001b[0m \u001b[0my\u001b[0m\u001b[0;34m.\u001b[0m\u001b[0mndim\u001b[0m \u001b[0;34m>\u001b[0m \u001b[0;36m2\u001b[0m\u001b[0;34m:\u001b[0m\u001b[0;34m\u001b[0m\u001b[0;34m\u001b[0m\u001b[0m\n",
      "\u001b[0;31mValueError\u001b[0m: x and y must have same first dimension, but have shapes (2, 3) and (3,)"
     ]
    },
    {
     "data": {
      "image/png": "[encoded data removed]",
      "text/plain": [
       "<Figure size 432x288 with 1 Axes>"
      ]
     },
     "metadata": {
      "needs_background": "light"
     },
     "output_type": "display_data"
    }
   ],
   "source": [
    "plt.plot(origin,V1)"
   ]
  },
  {
   "cell_type": "code",
   "execution_count": 44,
   "id": "44187634",
   "metadata": {},
   "outputs": [
    {
     "data": {
      "image/png": "[encoded data removed]",
      "text/plain": [
       "<Figure size 432x288 with 1 Axes>"
      ]
     },
     "metadata": {
      "needs_background": "light"
     },
     "output_type": "display_data"
    }
   ],
   "source": [
    "\n",
    "import numpy as np\n",
    "import matplotlib.pyplot as plt\n",
    "\n",
    "V = np.array([[1,1], [-2,2], [4,-7]])\n",
    "origin = np.array([[0, 0, 0],[0, 0, 0]]) # origin point\n",
    "\n",
    "plt.quiver(*origin, V[:,0], V[:,1], color=['r','b','g'], scale=21)\n",
    "plt.show()"
   ]
  },
  {
   "cell_type": "code",
   "execution_count": 48,
   "id": "1134e6a8",
   "metadata": {},
   "outputs": [
    {
     "data": {
      "image/png": "[encoded data removed]",
      "text/plain": [
       "<Figure size 432x288 with 1 Axes>"
      ]
     },
     "metadata": {
      "needs_background": "light"
     },
     "output_type": "display_data"
    }
   ],
   "source": [
    "\n",
    "import numpy as np\n",
    "import matplotlib.pyplot as plt\n",
    "\n",
    "V = np.array([V3, V1, V2])\n",
    "origin = np.array([[0, 0, 0],[0, 0, 0], [0, 0, 0]]) # origin point\n",
    "\n",
    "plt.quiver(*origin, V[:,0], V[:,1], color=['r','b','g'], scale=21)\n",
    "plt.show()"
   ]
  },
  {
   "cell_type": "code",
   "execution_count": 49,
   "id": "27408252",
   "metadata": {},
   "outputs": [
    {
     "data": {
      "text/plain": [
       "[<matplotlib.lines.Line2D at 0x7fa5c5b56130>,\n",
       " <matplotlib.lines.Line2D at 0x7fa5c5b56160>]"
      ]
     },
     "execution_count": 49,
     "metadata": {},
     "output_type": "execute_result"
    },
    {
     "data": {
      "image/png": "[encoded data removed]",
      "text/plain": [
       "<Figure size 432x288 with 1 Axes>"
      ]
     },
     "metadata": {
      "needs_background": "light"
     },
     "output_type": "display_data"
    }
   ],
   "source": [
    "plt.plot(V1, V2, V3, V4)"
   ]
  },
  {
   "cell_type": "code",
   "execution_count": 50,
   "id": "99f59b86",
   "metadata": {},
   "outputs": [
    {
     "ename": "NameError",
     "evalue": "name 'widgets' is not defined",
     "output_type": "error",
     "traceback": [
      "\u001b[0;31m---------------------------------------------------------------------------\u001b[0m",
      "\u001b[0;31mNameError\u001b[0m                                 Traceback (most recent call last)",
      "\u001b[0;32m<ipython-input-50-6a0ba1eb0133>\u001b[0m in \u001b[0;36m<module>\u001b[0;34m\u001b[0m\n\u001b[1;32m     60\u001b[0m \u001b[0mstyle\u001b[0m \u001b[0;34m=\u001b[0m \u001b[0;34m{\u001b[0m\u001b[0;34m'description_width'\u001b[0m\u001b[0;34m:\u001b[0m \u001b[0;34m'initial'\u001b[0m\u001b[0;34m}\u001b[0m\u001b[0;34m\u001b[0m\u001b[0;34m\u001b[0m\u001b[0m\n\u001b[1;32m     61\u001b[0m \u001b[0;34m\u001b[0m\u001b[0m\n\u001b[0;32m---> 62\u001b[0;31m \u001b[0;34m@\u001b[0m\u001b[0mwidgets\u001b[0m\u001b[0;34m.\u001b[0m\u001b[0minteract\u001b[0m\u001b[0;34m(\u001b[0m\u001b[0mneuron1_firing\u001b[0m \u001b[0;34m=\u001b[0m \u001b[0mwidgets\u001b[0m\u001b[0;34m.\u001b[0m\u001b[0mFloatSlider\u001b[0m\u001b[0;34m(\u001b[0m\u001b[0mvalue\u001b[0m\u001b[0;34m=\u001b[0m\u001b[0;36m1.0\u001b[0m\u001b[0;34m,\u001b[0m \u001b[0mmin\u001b[0m\u001b[0;34m=\u001b[0m\u001b[0;34m-\u001b[0m\u001b[0;36m4\u001b[0m\u001b[0;34m,\u001b[0m \u001b[0mmax\u001b[0m\u001b[0;34m=\u001b[0m\u001b[0;36m4\u001b[0m\u001b[0;34m,\u001b[0m \u001b[0mstep\u001b[0m\u001b[0;34m=\u001b[0m\u001b[0;36m1\u001b[0m\u001b[0;34m,\u001b[0m \u001b[0mstyle\u001b[0m\u001b[0;34m=\u001b[0m\u001b[0mstyle\u001b[0m\u001b[0;34m)\u001b[0m\u001b[0;34m,\u001b[0m \u001b[0mneuron2_firing\u001b[0m \u001b[0;34m=\u001b[0m \u001b[0mwidgets\u001b[0m\u001b[0;34m.\u001b[0m\u001b[0mFloatSlider\u001b[0m\u001b[0;34m(\u001b[0m\u001b[0mvalue\u001b[0m\u001b[0;34m=\u001b[0m\u001b[0;36m1.0\u001b[0m\u001b[0;34m,\u001b[0m \u001b[0mmin\u001b[0m\u001b[0;34m=\u001b[0m\u001b[0;34m-\u001b[0m\u001b[0;36m4\u001b[0m\u001b[0;34m,\u001b[0m \u001b[0mmax\u001b[0m\u001b[0;34m=\u001b[0m\u001b[0;36m4\u001b[0m\u001b[0;34m,\u001b[0m \u001b[0mstep\u001b[0m\u001b[0;34m=\u001b[0m\u001b[0;36m1\u001b[0m\u001b[0;34m,\u001b[0m \u001b[0mstyle\u001b[0m\u001b[0;34m=\u001b[0m\u001b[0mstyle\u001b[0m\u001b[0;34m)\u001b[0m\u001b[0;34m,\u001b[0m \u001b[0mmask\u001b[0m \u001b[0;34m=\u001b[0m \u001b[0mfixed\u001b[0m\u001b[0;34m(\u001b[0m\u001b[0mmask\u001b[0m\u001b[0;34m)\u001b[0m\u001b[0;34m,\u001b[0m  \u001b[0mheatmap\u001b[0m \u001b[0;34m=\u001b[0m \u001b[0mfixed\u001b[0m\u001b[0;34m(\u001b[0m\u001b[0mheatmap\u001b[0m\u001b[0;34m)\u001b[0m\u001b[0;34m)\u001b[0m\u001b[0;34m\u001b[0m\u001b[0;34m\u001b[0m\u001b[0m\n\u001b[0m\u001b[1;32m     63\u001b[0m \u001b[0;32mdef\u001b[0m \u001b[0mplot_linear_combination\u001b[0m\u001b[0;34m(\u001b[0m\u001b[0mneuron1_firing\u001b[0m\u001b[0;34m,\u001b[0m \u001b[0mneuron2_firing\u001b[0m\u001b[0;34m,\u001b[0m \u001b[0mmask\u001b[0m\u001b[0;34m)\u001b[0m\u001b[0;34m:\u001b[0m\u001b[0;34m\u001b[0m\u001b[0;34m\u001b[0m\u001b[0m\n\u001b[1;32m     64\u001b[0m   \u001b[0mfiring_rates\u001b[0m \u001b[0;34m=\u001b[0m \u001b[0mnp\u001b[0m\u001b[0;34m.\u001b[0m\u001b[0marray\u001b[0m\u001b[0;34m(\u001b[0m\u001b[0;34m[\u001b[0m\u001b[0mneuron1_firing\u001b[0m\u001b[0;34m,\u001b[0m \u001b[0mneuron2_firing\u001b[0m\u001b[0;34m]\u001b[0m\u001b[0;34m)\u001b[0m\u001b[0;34m\u001b[0m\u001b[0;34m\u001b[0m\u001b[0m\n",
      "\u001b[0;31mNameError\u001b[0m: name 'widgets' is not defined"
     ]
    }
   ],
   "source": [
    "step = .1\n",
    "x_vec = np.arange(-4, 4.001, step)\n",
    "y_vec = np.arange(-4, 4.001, step)\n",
    "n_pixels = x_vec.shape[0]\n",
    "\n",
    "\n",
    "heatmap = np.zeros((n_pixels, n_pixels))\n",
    "y = np.array([1, 3])\n",
    "for i, coord1 in enumerate(x_vec):\n",
    "  for j, coord2 in enumerate(x_vec):\n",
    "    heatmap[i, j] = np.dot(np.array([coord1, coord2]), y)\n",
    "circle_mask = np.zeros((n_pixels, n_pixels))\n",
    "\n",
    "for i, coord_i in enumerate(x_vec):\n",
    "  for j, coord_j in enumerate(y_vec):\n",
    "    circle_mask[i, j] = np.sqrt(coord_i**2 + coord_j**2)\n",
    "\n",
    "circle_mask = circle_mask < 4\n",
    "\n",
    "heatmap = heatmap * circle_mask\n",
    "mask = np.zeros((n_pixels, n_pixels))\n",
    "\n",
    "def plot_heatmap(x, y, mask):\n",
    "\n",
    "  fig, ax = plt.subplots()\n",
    "\n",
    "  ax.spines['top'].set_color('none')\n",
    "  ax.spines['bottom'].set_position('zero')\n",
    "  ax.spines['left'].set_position('zero')\n",
    "  ax.spines['right'].set_color('none')\n",
    "\n",
    "  heatmap[np.where(x_vec == x[0])[0], np.where(x_vec == x[1])[0]] = np.dot(x, y)\n",
    "\n",
    "  masked_x = np.abs(x_vec - x[0]) < 1\n",
    "  masked_y = np.abs(y_vec - x[1]) < 1\n",
    "  mask += np.outer(masked_x, masked_y)\n",
    "  mask = np.minimum(mask, 1)\n",
    "\n",
    "  im = ax.imshow((heatmap * mask).T, vmin = -15, vmax = 15, origin = 'lower', alpha = .5, extent=[-n_pixels/2., n_pixels/2., -n_pixels/2., n_pixels/2. ], cmap = 'bwr')\n",
    "  cbar = plt.colorbar(im, ax = ax)\n",
    "  cbar.set_label('Response of LGN neuron (g)', rotation=270, labelpad=20)\n",
    "  ax.set(xticklabels = [], yticklabels = [], xlabel = '$\\mathbf{r}_1$')\n",
    "  ax.set_ylabel('$\\mathbf{r}_2$', rotation=0)\n",
    "\n",
    "  ax.xaxis.set_label_coords(0, .45)\n",
    "  ax.yaxis.set_label_coords(.5, 1)\n",
    "  fr_arr = ax.arrow(0, 0, (1/step)*x[0], (1/step)*x[1], width=.5, color='#40B0A6', length_includes_head = True);\n",
    "  we_arr = ax.arrow(0, 0, (1/step)*y[0], (1/step)*y[1], width=.5, color='k', length_includes_head = True);\n",
    "\n",
    "\n",
    "  leg = ax.legend([fr_arr, we_arr], ['Retina firing rate vector', 'Weight vector'],\n",
    "                  handlelength = 0, frameon=False, fontsize = 17,loc = 'center',\n",
    "                  bbox_to_anchor=(.5, -.1))\n",
    "  for handle, label in zip(leg.legendHandles, leg.texts):\n",
    "        label.set_color(handle.get_facecolor())\n",
    "        handle.set_visible(False)\n",
    "\n",
    "  return mask\n",
    "\n",
    "style = {'description_width': 'initial'}\n",
    "\n",
    "@widgets.interact(neuron1_firing = widgets.FloatSlider(value=1.0, min=-4, max=4, step=1, style=style), neuron2_firing = widgets.FloatSlider(value=1.0, min=-4, max=4, step=1, style=style), mask = fixed(mask),  heatmap = fixed(heatmap))\n",
    "def plot_linear_combination(neuron1_firing, neuron2_firing, mask):\n",
    "  firing_rates = np.array([neuron1_firing, neuron2_firing])\n",
    "  weights = np.array([1, 2])\n",
    "  mask = plot_heatmap(firing_rates, weights, mask)"
   ]
  },
  {
   "cell_type": "markdown",
   "id": "3b90aef6",
   "metadata": {},
   "source": [
    "## Matrices"
   ]
  },
  {
   "cell_type": "code",
   "execution_count": 51,
   "id": "380586e5",
   "metadata": {},
   "outputs": [],
   "source": [
    "import numpy as np\n",
    "import matplotlib.pyplot as plt"
   ]
  },
  {
   "cell_type": "code",
   "execution_count": 52,
   "id": "89a9f17a",
   "metadata": {},
   "outputs": [],
   "source": [
    "import ipywidgets as widgets# interactive display\n",
    "from ipywidgets import fixed\n",
    "%config InlineBackend.figure_format = 'retina'\n",
    "plt.style.use(\"https://raw.githubusercontent.com/NeuromatchAcademy/course-content/master/nma.mplstyle\")\n"
   ]
  },
  {
   "cell_type": "code",
   "execution_count": 53,
   "id": "208fd063",
   "metadata": {},
   "outputs": [],
   "source": [
    "import numpy\n",
    "from numpy.linalg import inv, eig\n",
    "from math import ceil\n",
    "from matplotlib import pyplot, ticker, get_backend, rc\n",
    "from mpl_toolkits.mplot3d import Axes3D\n",
    "from itertools import cycle\n",
    "\n",
    "_int_backends = ['GTK3Agg', 'GTK3Cairo', 'MacOSX', 'nbAgg',\n",
    "                 'Qt4Agg', 'Qt4Cairo', 'Qt5Agg', 'Qt5Cairo',\n",
    "                 'TkAgg', 'TkCairo', 'WebAgg', 'WX', 'WXAgg', 'WXCairo']\n",
    "_backend = get_backend()   # get current backend name\n",
    "\n",
    "# shrink figsize and fontsize when using %matplotlib notebook\n",
    "if _backend in _int_backends:\n",
    "  fontsize = 4\n",
    "  fig_scale = 0.75\n",
    "else:\n",
    "  fontsize = 5\n",
    "  fig_scale = 1\n",
    "\n",
    "grey = '#808080'\n",
    "gold = '#cab18c'   # x-axis grid\n",
    "lightblue = '#0096d6'  # y-axis grid\n",
    "green = '#008367'  # x-axis basis vector\n",
    "red = '#E31937'    # y-axis basis vector\n",
    "darkblue = '#004065'\n",
    "\n",
    "pink, yellow, orange, purple, brown = '#ef7b9d', '#fbd349', '#ffa500', '#a35cff', '#731d1d'\n",
    "\n",
    "quiver_params = {'angles': 'xy',\n",
    "                 'scale_units': 'xy',\n",
    "                 'scale': 1,\n",
    "                 'width': 0.012}\n",
    "\n",
    "grid_params = {'linewidth': 0.5,\n",
    "               'alpha': 0.8}\n",
    "\n",
    "def set_rc(func):\n",
    "  def wrapper(*args, **kwargs):\n",
    "    rc('font', family='serif', size=fontsize)\n",
    "    rc('figure', dpi=200)\n",
    "    rc('axes', axisbelow=True, titlesize=5)\n",
    "    rc('lines', linewidth=1)\n",
    "    func(*args, **kwargs)\n",
    "  return wrapper\n",
    "\n",
    "@set_rc\n",
    "def plot_vector(vectors, tails=None):\n",
    "  ''' Draw 2d vectors based on the values of the vectors and the position of their tails.\n",
    "\n",
    "  Parameters\n",
    "  ----------\n",
    "  vectors : list.\n",
    "    List of 2-element array-like structures, each represents a 2d vector.\n",
    "\n",
    "  tails : list, optional.\n",
    "    List of 2-element array-like structures, each represents the coordinates of the tail\n",
    "    of the corresponding vector in vectors. If None (default), all tails are set at the\n",
    "    origin (0,0). If len(tails) is 1, all tails are set at the same position. Otherwise,\n",
    "    vectors and tails must have the same length.\n",
    "\n",
    "  Examples\n",
    "  --------\n",
    "  >>> v = [(1, 3), (3, 3), (4, 6)]\n",
    "  >>> plot_vector(v)      # draw 3 vectors with their tails at origin\n",
    "  >>> t = [numpy.array((2, 2))]\n",
    "  >>> plot_vector(v, t)   # draw 3 vectors with their tails at (2,2)\n",
    "  >>> t = [[3, 2], [-1, -2], [3, 5]]\n",
    "  >>> plot_vector(v, t)   # draw 3 vectors with 3 different tails\n",
    "\n",
    "  '''\n",
    "  vectors = numpy.array(vectors)\n",
    "  assert vectors.shape[1] == 2, \"Each vector should have 2 elements.\"\n",
    "  if tails is not None:\n",
    "    tails = numpy.array(tails)\n",
    "    assert tails.shape[1] == 2, \"Each tail should have 2 elements.\"\n",
    "  else:\n",
    "    tails = numpy.zeros_like(vectors)\n",
    "\n",
    "  # tile vectors or tails array if needed\n",
    "  nvectors = vectors.shape[0]\n",
    "  ntails = tails.shape[0]\n",
    "  if nvectors == 1 and ntails > 1:\n",
    "    vectors = numpy.tile(vectors, (ntails, 1))\n",
    "  elif ntails == 1 and nvectors > 1:\n",
    "    tails = numpy.tile(tails, (nvectors, 1))\n",
    "  else:\n",
    "    assert tails.shape == vectors.shape, \"vectors and tail must have a same shape\"\n",
    "\n",
    "  # calculate xlimit & ylimit\n",
    "  heads = tails + vectors\n",
    "  limit = numpy.max(numpy.abs(numpy.hstack((tails, heads))))\n",
    "  limit = numpy.ceil(limit * 1.2)   # add some margins\n",
    "\n",
    "  figsize = numpy.array([2,2]) * fig_scale\n",
    "  figure, axis = pyplot.subplots(figsize=figsize)\n",
    "  axis.quiver(tails[:,0], tails[:,1], vectors[:,0], vectors[:,1], color=darkblue,\n",
    "                  angles='xy', scale_units='xy', scale=1)\n",
    "  axis.set_xlim([-limit, limit])\n",
    "  axis.set_ylim([-limit, limit])\n",
    "  axis.set_aspect('equal')\n",
    "\n",
    "  # if xticks and yticks of grid do not match, choose the finer one\n",
    "  xticks = axis.get_xticks()\n",
    "  yticks = axis.get_yticks()\n",
    "  dx = xticks[1] - xticks[0]\n",
    "  dy = yticks[1] - yticks[0]\n",
    "  base = max(int(min(dx, dy)), 1)   # grid interval is always an integer\n",
    "  loc = ticker.MultipleLocator(base=base)\n",
    "  axis.xaxis.set_major_locator(loc)\n",
    "  axis.yaxis.set_major_locator(loc)\n",
    "  axis.grid(True, **grid_params)\n",
    "\n",
    "  # show x-y axis in the center, hide frames\n",
    "  axis.spines['left'].set_position('center')\n",
    "  axis.spines['bottom'].set_position('center')\n",
    "  axis.spines['right'].set_color('none')\n",
    "  axis.spines['top'].set_color('none')\n",
    "\n",
    "@set_rc\n",
    "def plot_transformation_helper(axis, matrix, *vectors, unit_vector=True, unit_circle=False, title=None):\n",
    "  \"\"\" A helper function to plot the linear transformation defined by a 2x2 matrix.\n",
    "\n",
    "  Parameters\n",
    "  ----------\n",
    "  axis : class matplotlib.axes.Axes.\n",
    "    The axes to plot on.\n",
    "\n",
    "  matrix : class numpy.ndarray.\n",
    "    The 2x2 matrix to visualize.\n",
    "\n",
    "  *vectors : class numpy.ndarray.\n",
    "    The vector(s) to plot along with the linear transformation. Each array denotes a vector's\n",
    "    coordinates before the transformation and must have a shape of (2,). Accept any number of vectors.\n",
    "\n",
    "  unit_vector : bool, optional.\n",
    "    Whether to plot unit vectors of the standard basis, default to True.\n",
    "\n",
    "  unit_circle: bool, optional.\n",
    "    Whether to plot unit circle, default to False.\n",
    "\n",
    "  title: str, optional.\n",
    "    Title of the plot.\n",
    "\n",
    "  \"\"\"\n",
    "  assert matrix.shape == (2,2), \"the input matrix must have a shape of (2,2)\"\n",
    "  grid_range = 20\n",
    "  x = numpy.arange(-grid_range, grid_range+1)\n",
    "  X_, Y_ = numpy.meshgrid(x,x)\n",
    "  I = matrix[:,0]\n",
    "  J = matrix[:,1]\n",
    "  X = I[0]*X_ + J[0]*Y_\n",
    "  Y = I[1]*X_ + J[1]*Y_\n",
    "  origin = numpy.zeros(1)\n",
    "\n",
    "  # draw grid lines\n",
    "  for i in range(x.size):\n",
    "    axis.plot(X[i,:], Y[i,:], c=gold, **grid_params)\n",
    "    axis.plot(X[:,i], Y[:,i], c=lightblue, **grid_params)\n",
    "\n",
    "  # draw (transformed) unit vectors\n",
    "  if unit_vector:\n",
    "    axis.quiver(origin, origin, [I[0]], [I[1]], color=green, **quiver_params)\n",
    "    axis.quiver(origin, origin, [J[0]], [J[1]], color=red, **quiver_params)\n",
    "\n",
    "  # draw optional vectors\n",
    "  color_cycle = cycle([pink, darkblue, orange, purple, brown])\n",
    "  if vectors:\n",
    "    for vector in vectors:\n",
    "      color = next(color_cycle)\n",
    "      vector_ = matrix @ vector.reshape(-1,1)\n",
    "      axis.quiver(origin, origin, [vector_[0]], [vector_[1]], color=color, **quiver_params)\n",
    "\n",
    "  # draw optional unit circle\n",
    "  if unit_circle:\n",
    "    alpha =  numpy.linspace(0, 2*numpy.pi, 41)\n",
    "    circle = numpy.vstack((numpy.cos(alpha), numpy.sin(alpha)))\n",
    "    circle_trans = matrix @ circle\n",
    "    axis.plot(circle_trans[0], circle_trans[1], color=red, lw=0.8)\n",
    "\n",
    "  # hide frames, set xlimit & ylimit, set title\n",
    "  limit = 4\n",
    "  axis.spines['left'].set_position('center')\n",
    "  axis.spines['bottom'].set_position('center')\n",
    "  axis.spines['left'].set_linewidth(0.3)\n",
    "  axis.spines['bottom'].set_linewidth(0.3)\n",
    "  axis.spines['right'].set_color('none')\n",
    "  axis.spines['top'].set_color('none')\n",
    "  axis.set_xlim([-limit, limit])\n",
    "  axis.set_ylim([-limit, limit])\n",
    "  if title is not None:\n",
    "    axis.set_title(title)\n",
    "\n",
    "@set_rc\n",
    "def plot_linear_transformation(matrix, *vectors, name = None, unit_vector=True, unit_circle=False):\n",
    "  \"\"\" Plot the linear transformation defined by a 2x2 matrix using the helper\n",
    "  function plot_transformation_helper(). It will create 2 subplots to visualize some\n",
    "  vectors before and after the transformation.\n",
    "\n",
    "  Parameters\n",
    "  ----------\n",
    "  matrix : class numpy.ndarray.\n",
    "    The 2x2 matrix to visualize.\n",
    "\n",
    "  *vectors : class numpy.ndarray.\n",
    "    The vector(s) to plot along with the linear transformation. Each array denotes a vector's\n",
    "    coordinates before the transformation and must have a shape of (2,). Accept any number of vectors.\n",
    "\n",
    "  unit_vector : bool, optional.\n",
    "    Whether to plot unit vectors of the standard basis, default to True.\n",
    "\n",
    "  unit_circle: bool, optional.\n",
    "    Whether to plot unit circle, default to False.\n",
    "\n",
    "  \"\"\"\n",
    "  figsize = numpy.array([4,2]) * fig_scale\n",
    "  figure, (axis1, axis2) = pyplot.subplots(1, 2, figsize=figsize)\n",
    "  plot_transformation_helper(axis1, numpy.identity(2), *vectors, unit_vector=unit_vector, unit_circle=unit_circle, title='Before transformation')\n",
    "  plot_transformation_helper(axis2, matrix, *vectors, unit_vector=unit_vector, unit_circle=unit_circle, title='After transformation')\n",
    "  if name is not None:\n",
    "    figure.suptitle(f'Population {name}')\n",
    "\n",
    "\n",
    "\n",
    "def plot_eig_vec_transform(W):\n",
    "  classic = 'k'\n",
    "  vec_names = ['a', 'b','c','d','e','f','g', 'h']\n",
    "\n",
    "  _, vecs = np.linalg.eig(W)\n",
    "  vecs = vecs.T\n",
    "\n",
    "  fig, axes = plt.subplots(1, 2, figsize=(2, 1))\n",
    "  colors = plt.rcParams['axes.prop_cycle'].by_key()['color']\n",
    "\n",
    "  for i in range(2):\n",
    "    axes[i].set(xlim=[-3.5, 3.5], ylim=[-3.5,3.5])\n",
    "    axes[i].axis('Off')\n",
    "    axes[i].plot([0, 0], [-3.5, 3.5], classic, alpha=.4)\n",
    "    axes[i].plot([-3.5, 3.5], [0, 0], classic, alpha=.4)\n",
    "\n",
    "  for i_vec, vec in enumerate(vecs):\n",
    "    axes[0].arrow(0, 0, vec[0], vec[1], head_width=.2, facecolor=colors[i_vec], edgecolor=colors[i_vec], length_includes_head=True)\n",
    "    axes[0].annotate(vec_names[i_vec], xy=(vec[0]+np.sign(vec[0])*.15, vec[1]+np.sign(vec[1])*.15), color=colors[i_vec])\n",
    "\n",
    "    transformed_vec = np.matmul(W, vec)\n",
    "    axes[1].arrow(0, 0, transformed_vec[0], transformed_vec[1], head_width=.2, facecolor=colors[i_vec], edgecolor=colors[i_vec], length_includes_head=True)\n",
    "    axes[1].annotate(vec_names[i_vec], xy=(transformed_vec[0]+np.sign(transformed_vec[0])*.15, transformed_vec[1]+np.sign(transformed_vec[1])*.15), color=colors[i_vec])\n",
    "\n",
    "  axes[0].set_title('Before')\n",
    "  axes[1].set_title('After')"
   ]
  },
  {
   "cell_type": "code",
   "execution_count": 56,
   "id": "76ad6bc5",
   "metadata": {},
   "outputs": [],
   "source": [
    "P = np.array([[1,3],[2,1]])"
   ]
  },
  {
   "cell_type": "code",
   "execution_count": 57,
   "id": "673de7d4",
   "metadata": {},
   "outputs": [
    {
     "data": {
      "text/plain": [
       "array([[1, 3],\n",
       "       [2, 1]])"
      ]
     },
     "execution_count": 57,
     "metadata": {},
     "output_type": "execute_result"
    }
   ],
   "source": [
    "P"
   ]
  },
  {
   "cell_type": "code",
   "execution_count": 65,
   "id": "29deced6",
   "metadata": {},
   "outputs": [],
   "source": [
    "g_p = np.array([16, 7])"
   ]
  },
  {
   "cell_type": "code",
   "execution_count": 66,
   "id": "e17b592d",
   "metadata": {},
   "outputs": [
    {
     "data": {
      "text/plain": [
       "array([16,  7])"
      ]
     },
     "execution_count": 66,
     "metadata": {},
     "output_type": "execute_result"
    }
   ],
   "source": [
    "g_p"
   ]
  },
  {
   "cell_type": "code",
   "execution_count": 64,
   "id": "81e9bbf0",
   "metadata": {},
   "outputs": [
    {
     "data": {
      "text/plain": [
       "array([[16, 21],\n",
       "       [32,  7]])"
      ]
     },
     "execution_count": 64,
     "metadata": {},
     "output_type": "execute_result"
    }
   ],
   "source": []
  },
  {
   "cell_type": "code",
   "execution_count": 67,
   "id": "d4889052",
   "metadata": {},
   "outputs": [
    {
     "name": "stdout",
     "output_type": "stream",
     "text": [
      "[[1.]\n",
      " [5.]]\n"
     ]
    }
   ],
   "source": [
    "##Exercise\n",
    "# Create P (using np array)\n",
    "P = np.array([[1,3],[2,1]])\n",
    "\n",
    "# Create g_p (using np array)\n",
    "g_p = np.array([[16], [7]])\n",
    "\n",
    "# Solve for r (using np.linalg.inv)\n",
    "r = np.linalg.inv(P) @ g_p\n",
    "\n",
    "# Print r\n",
    "print(r)"
   ]
  },
  {
   "cell_type": "code",
   "execution_count": 68,
   "id": "21afeccf",
   "metadata": {},
   "outputs": [],
   "source": [
    "## 1.2"
   ]
  },
  {
   "cell_type": "code",
   "execution_count": 69,
   "id": "511da338",
   "metadata": {},
   "outputs": [],
   "source": [
    "x = np.array([4,2])\n",
    "A = np.array([-1, 1])"
   ]
  },
  {
   "cell_type": "code",
   "execution_count": 71,
   "id": "f1461c77",
   "metadata": {},
   "outputs": [],
   "source": [
    "y= x*A"
   ]
  },
  {
   "cell_type": "code",
   "execution_count": 77,
   "id": "ab46ed91",
   "metadata": {},
   "outputs": [
    {
     "data": {
      "image/png": "[encoded data removed]",
      "text/plain": [
       "<Figure size 800x400 with 2 Axes>"
      ]
     },
     "metadata": {
      "image/png": {
       "height": 410,
       "width": 810
      },
      "needs_background": "light"
     },
     "output_type": "display_data"
    }
   ],
   "source": [
    "A = np.array([[-1, 0], [0, 0]])\n",
    "\n",
    "# Uncomment to visualize transformation\n",
    "plot_linear_transformation(A)"
   ]
  },
  {
   "cell_type": "code",
   "execution_count": 79,
   "id": "b4e87d90",
   "metadata": {},
   "outputs": [
    {
     "name": "stdout",
     "output_type": "stream",
     "text": [
      "[[0 1]\n",
      " [2 4]\n",
      " [5 1]]\n",
      "[[3 2 1]\n",
      " [1 2 7]]\n"
     ]
    }
   ],
   "source": [
    "# Matrix multiplication\n",
    "# Define R\n",
    "R = np.array([[0,1], [2,4], [5,1]])\n",
    "\n",
    "# Define W\n",
    "W = np.array([[3,2,1], [1,2,7]])\n",
    "\n",
    "print(R)\n",
    "print(W)"
   ]
  },
  {
   "cell_type": "code",
   "execution_count": 81,
   "id": "453712e1",
   "metadata": {},
   "outputs": [
    {
     "name": "stdout",
     "output_type": "stream",
     "text": [
      "[[ 9 12]\n",
      " [39 16]]\n"
     ]
    }
   ],
   "source": [
    "# Compute G\n",
    "# in Python, we can use @ for matrix multiplication: matrix1 @ matrix2\n",
    "G = W @ R\n",
    "\n",
    "# Print values of G\n",
    "print(G)"
   ]
  },
  {
   "cell_type": "code",
   "execution_count": 82,
   "id": "b2a6d8b8",
   "metadata": {},
   "outputs": [
    {
     "name": "stdout",
     "output_type": "stream",
     "text": [
      "[[ 9 12]\n",
      " [39 16]]\n"
     ]
    }
   ],
   "source": [
    "\n",
    "# Define R\n",
    "R = np.array([[0, 1], [2, 4], [5, 1]])\n",
    "\n",
    "# Define W\n",
    "W = np.array([[3, 2, 1], [1, 2, 7]])\n",
    "\n",
    "# Compute G\n",
    "# in Python, we can use @ for matrix multiplication: matrix1 @ matrix2\n",
    "G = W @ R\n",
    "\n",
    "# Print values of G\n",
    "print(G)"
   ]
  },
  {
   "cell_type": "code",
   "execution_count": null,
   "id": "4fb5eff3",
   "metadata": {},
   "outputs": [],
   "source": []
  }
 ],
 "metadata": {
  "kernelspec": {
   "display_name": "Python 3",
   "language": "python",
   "name": "python3"
  },
  "language_info": {
   "codemirror_mode": {
    "name": "ipython",
    "version": 3
   },
   "file_extension": ".py",
   "mimetype": "text/x-python",
   "name": "python",
   "nbconvert_exporter": "python",
   "pygments_lexer": "ipython3",
   "version": "3.8.8"
  }
 },
 "nbformat": 4,
 "nbformat_minor": 5
}
