{
 "cells": [
  {
   "cell_type": "code",
   "execution_count": 1,
   "id": "cae7654e",
   "metadata": {},
   "outputs": [],
   "source": [
    "## Revison from NIDS"
   ]
  },
  {
   "cell_type": "code",
   "execution_count": 2,
   "id": "6019753a",
   "metadata": {},
   "outputs": [
    {
     "name": "stdout",
     "output_type": "stream",
     "text": [
      "3.14\n"
     ]
    }
   ],
   "source": [
    "simple_pi = 3.14\n",
    "print(simple_pi)"
   ]
  },
  {
   "cell_type": "code",
   "execution_count": 3,
   "id": "d7c3e4e4",
   "metadata": {},
   "outputs": [
    {
     "data": {
      "text/plain": [
       "float"
      ]
     },
     "execution_count": 3,
     "metadata": {},
     "output_type": "execute_result"
    }
   ],
   "source": [
    "type(simple_pi)"
   ]
  },
  {
   "cell_type": "code",
   "execution_count": 4,
   "id": "b88d20b1",
   "metadata": {},
   "outputs": [],
   "source": [
    "#Ex1\n",
    "# t_max = 150e-3   # second\n",
    "# dt = 1e-3        # second\n",
    "# tau = 20e-3      # second\n",
    "# el = -60e-3      # milivolt\n",
    "# vr = -70e-3      # milivolt\n",
    "# vth = -50e-3     # milivolt\n",
    "# r = 100e6        # ohm\n",
    "# i_mean = 25e-11  # ampere\n",
    "\n",
    "# print(t_max, dt, tau, el, vr, vth, r, i_mean)"
   ]
  },
  {
   "cell_type": "code",
   "execution_count": 7,
   "id": "21c0fac3",
   "metadata": {},
   "outputs": [
    {
     "name": "stdout",
     "output_type": "stream",
     "text": [
      "0.15 0.001 0.02 -0.06 -0.07 -0.05 100000000.0 2.5e-10\n"
     ]
    }
   ],
   "source": [
    "t_max = 150e-3   # second\n",
    "dt = 1e-3        # second\n",
    "tau = 20e-3      # second\n",
    "el = -60e-3      # milivolt\n",
    "vr = -70e-3      # milivolt\n",
    "vth = -50e-3     # milivolt\n",
    "r = 100e6        # ohm\n",
    "i_mean = 25e-11  # ampere\n",
    "pi=3,141592653589793\n",
    "\n",
    "print(t_max, dt, tau, el, vr, vth, r, i_mean)"
   ]
  },
  {
   "cell_type": "code",
   "execution_count": 11,
   "id": "c3a73dc3",
   "metadata": {},
   "outputs": [],
   "source": [
    "# 𝐼(𝑡)=𝐼𝑚𝑒𝑎𝑛(1+sin(2𝜋0.01𝑡))"
   ]
  },
  {
   "cell_type": "code",
   "execution_count": 18,
   "id": "ea4947b1",
   "metadata": {},
   "outputs": [],
   "source": [
    "import math\n",
    "import numpy as np"
   ]
  },
  {
   "cell_type": "code",
   "execution_count": 22,
   "id": "22468ae1",
   "metadata": {},
   "outputs": [
    {
     "name": "stdout",
     "output_type": "stream",
     "text": [
      "2.5e-10\n",
      "2.5e-10\n",
      "3.969463130731183e-10\n",
      "3.969463130731183e-10\n",
      "4.877641290737885e-10\n",
      "4.877641290737885e-10\n",
      "4.877641290737885e-10\n",
      "4.877641290737885e-10\n",
      "3.9694631307311837e-10\n",
      "3.9694631307311837e-10\n",
      "2.5000000000000007e-10\n",
      "2.5000000000000007e-10\n",
      "1.0305368692688176e-10\n",
      "1.0305368692688176e-10\n",
      "1.2235870926211617e-11\n",
      "1.2235870926211617e-11\n",
      "1.223587092621159e-11\n",
      "1.223587092621159e-11\n",
      "1.0305368692688186e-10\n",
      "1.0305368692688186e-10\n"
     ]
    }
   ],
   "source": [
    "n=10\n",
    "for step in range(n):\n",
    "    t = step * dt\n",
    "    i= i_mean * (1+ np.sin(2*np.pi*t/0.01))\n",
    "    print(i)\n"
   ]
  },
  {
   "cell_type": "code",
   "execution_count": null,
   "id": "bd8ec474",
   "metadata": {},
   "outputs": [],
   "source": []
  }
 ],
 "metadata": {
  "kernelspec": {
   "display_name": "Python 3",
   "language": "python",
   "name": "python3"
  },
  "language_info": {
   "codemirror_mode": {
    "name": "ipython",
    "version": 3
   },
   "file_extension": ".py",
   "mimetype": "text/x-python",
   "name": "python",
   "nbconvert_exporter": "python",
   "pygments_lexer": "ipython3",
   "version": "3.8.8"
  }
 },
 "nbformat": 4,
 "nbformat_minor": 5
}
